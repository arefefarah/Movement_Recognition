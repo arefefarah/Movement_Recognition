{
 "cells": [
  {
   "cell_type": "markdown",
   "id": "c0baa35e",
   "metadata": {},
   "source": [
    "#### This notebook is for ruunig the reverse model "
   ]
  },
  {
   "cell_type": "code",
   "execution_count": null,
   "id": "330adbbc",
   "metadata": {
    "lines_to_next_cell": 2
   },
   "outputs": [],
   "source": [
    "sys.path.insert(0, '../')\n",
    "import movement_classifier.utils as utils\n",
    "import movement_classifier.data_loader as data_loader\n",
    "import movement_classifier.model_funcs as model_funcs\n",
    "import movement_classifier.gpt_reverse_model as gpt_reverse_model\n",
    "\n",
    "from os.path import dirname, join as pjoin\n",
    "import os\n",
    "import sys\n",
    "import math\n",
    "\n",
    "import dlc2kinematics\n",
    "from scipy.interpolate import CubicSpline\n",
    "import matplotlib.pyplot as plt\n",
    "from sklearn import preprocessing\n",
    "import numpy as np\n",
    "import pandas as pd\n",
    "import plotly.express as px\n",
    "import plotly\n",
    "from sklearn.decomposition import PCA\n",
    "import seaborn as sns\n",
    "import scipy.io as sio"
   ]
  },
  {
   "cell_type": "code",
   "execution_count": null,
   "id": "8b2de65e",
   "metadata": {
    "lines_to_end_of_cell_marker": 2
   },
   "outputs": [],
   "source": [
    "\"\"\"load dataframes for the modelling\"\"\"\n",
    "path_file = \"../data/03_processed/padding\"\n",
    "data_dict = data_loader.load_data_dict(path_file)\n",
    "\n",
    "model = model_funcs.Mov1DCNN(num_classes = 20)\n",
    "input_dict = data_dict\n",
    "reg = \"l2\"\n",
    "params = (model , input_dict   , reg )\n",
    "my_testmodel = model_funcs.ModelHandler(*params)\n",
    "\"\"\"train model\"\"\"\n",
    "model_trained =  my_testmodel.train()\n",
    "\"\"\"test model\"\"\"\n",
    "my_testmodel.test()"
   ]
  },
  {
   "cell_type": "code",
   "execution_count": null,
   "id": "73d28e74",
   "metadata": {},
   "outputs": [],
   "source": [
    "input_train= np.load(\"../data/03_processed/output_train/input.npy\")\n",
    "print(input_train.shape)\n",
    "out, indices = model_trained(input_train)"
   ]
  },
  {
   "cell_type": "code",
   "execution_count": null,
   "id": "53715d64",
   "metadata": {},
   "outputs": [],
   "source": [
    "visualization_train,labels_name_train,output_train= my_testmodel.layer_extractor(train=True)\n",
    "output = output_train\n",
    "\n",
    "\n",
    "reverse_model = gpt_reverse_model.ReverseMov1DCNN(num_classes= 20,maxpool_indices =maxpool_indices)\n",
    "reconstuct_out = reverse_model(output)"
   ]
  },
  {
   "cell_type": "code",
   "execution_count": null,
   "id": "8394467c",
   "metadata": {},
   "outputs": [],
   "source": [
    "#analyze model for inverse model\n",
    "out_fc3_train= np.load(\"../data/03_processed/output_train/fc3-out.npy\")\n",
    "input_train= np.load(\"../data/03_processed/output_train/input.npy\")\n",
    "labels_name_train = np.load(\"../data/03_processed/output_train/labels_name.npy\")\n",
    "labels_train = np.load(\"../data/03_processed/output_train/labels.npy\")\n",
    "\n",
    "# combine with test data:\n",
    "out_fc3_test= np.load(\"../data/03_processed/output_test/fc3-out.npy\")\n",
    "input_test= np.load(\"../data/03_processed/output_test/input.npy\")\n",
    "labels_name_test = np.load(\"../data/03_processed/output_test/labels_name.npy\")\n",
    "labels_test = np.load(\"../data/03_processed/output_test/labels.npy\")\n",
    "\n",
    "out_fc3= np.concatenate((out_fc3_train,out_fc3_test), axis=0)\n",
    "input= np.concatenate((input_train,input_test), axis=0)\n",
    "labels_name = np.concatenate((labels_name_train,labels_name_test), axis=0)\n",
    "labels = np.concatenate((labels_train,labels_test), axis=0)\n",
    "\n",
    "\n",
    "# path_file = \"../data/03_processed/padding\"\n",
    "# data_dict = data_loader.load_data_dict(path_file)\n",
    "input_dict = {}\n",
    "input_dict[\"input_model\"] = out_fc3\n",
    "input_dict[\"labels_name\"] = labels_name\n",
    "input_dict[\"labels\"] = labels\n",
    "\n",
    "print(input_test.shape)\n",
    "print(out_fc3.shape)\n",
    "\n",
    "\n",
    "model1 = gpt_reverse_model.ReverseMov1DCNN(num_classes = 20)\n",
    "reg = \"l2\"\n",
    "params = (model1 , input_dict   , reg )\n",
    "my_testmodel = reverse_model.ModelHandler(*params)\n",
    "# \"\"\"train model\"\"\"\n",
    "my_testmodel.train()\n",
    "# \"\"\"test model\"\"\"\n",
    "# my_testmodel.test()"
   ]
  }
 ],
 "metadata": {
  "jupytext": {
   "formats": "ipynb,jupytext//py"
  },
  "kernelspec": {
   "display_name": "Python 3.9.7 ('base': conda)",
   "language": "python",
   "name": "python3"
  }
 },
 "nbformat": 4,
 "nbformat_minor": 5
}
