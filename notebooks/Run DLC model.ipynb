{
 "cells": [
  {
   "cell_type": "markdown",
   "id": "5b531133",
   "metadata": {},
   "source": [
    "#### This notebook is for loading data from Deeplabcut and running classification model "
   ]
  },
  {
   "cell_type": "code",
   "execution_count": null,
   "id": "d1120551",
   "metadata": {},
   "outputs": [],
   "source": [
    "sys.path.insert(0, '../')\n",
    "import movement_classifier.utils as utils\n",
    "import movement_classifier.data_loader as data_loader\n",
    "import movement_classifier.model_funcs as model_funcs\n",
    "import movement_classifier.reverse_model as reverse_model\n",
    "\n",
    "from os.path import dirname, join as pjoin\n",
    "import os\n",
    "import sys\n",
    "import math\n",
    "\n",
    "import dlc2kinematics\n",
    "from scipy.interpolate import CubicSpline\n",
    "import matplotlib.pyplot as plt\n",
    "from sklearn import preprocessing\n",
    "import numpy as np\n",
    "import pandas as pd\n",
    "import plotly.express as px\n",
    "import plotly\n",
    "from sklearn.decomposition import PCA\n",
    "import seaborn as sns\n",
    "import scipy.io as sio\n"
   ]
  },
  {
   "cell_type": "code",
   "execution_count": null,
   "id": "95006812",
   "metadata": {},
   "outputs": [],
   "source": [
    "\"\"\"Load raw data and create Dataframe of all subjects and their movements and save them\"\"\"\n",
    "min_length,max_length,_,_ = data_loader.timelength_loader(\"../data/01_raw/F_Subjects\")\n",
    "sub_info,movement_name_list,subjects = data_loader.csvSubject_loader(\"../data/01_raw/CSV_files\",min_length,max_length,method=\"padding\")\n",
    "data_loader.save_data(sub_info, movement_name_list,subjects, method = \"padding\")"
   ]
  },
  {
   "cell_type": "code",
   "execution_count": null,
   "id": "fa31ab84",
   "metadata": {},
   "outputs": [],
   "source": [
    "\"\"\"load dataframes for the modelling\"\"\"\n",
    "path_file = \"../data/03_processed/padding\"\n",
    "data_dict = data_loader.load_data_dict(path_file)\n",
    "data_dict.keys()\n",
    "np.unique(data_dict[\"labels_name\"])"
   ]
  },
  {
   "cell_type": "code",
   "execution_count": null,
   "id": "ce7f3576",
   "metadata": {},
   "outputs": [],
   "source": [
    "\n",
    "### Extract two/three classes data for two-class classifier\n",
    "# np.unique(data_dict[\"labels_name\"])\n",
    "ind = np.where(np.logical_or(np.logical_or(data_dict[\"labels_name\"] == \"walking\" , data_dict[\"labels_name\"] == 'jumping_jacks'), data_dict[\"labels_name\"] == 'jogging'))\n",
    "p = ['input_model', 'labels', 'labels_name']\n",
    "input_dict ={}\n",
    "for k in p:\n",
    "    print(k)\n",
    "    input_dict[k]= data_dict[k][ind]\n",
    "    input_dict[k].shape\n",
    "input_dict[\"labels\"]\n",
    "\n",
    "\n",
    "labels = input_dict[\"labels\"]\n",
    "labels[labels== 7]= 0\n",
    "labels[labels== 19]= 1\n",
    "labels[labels== 6]= 2\n",
    "input_dict[\"labels\"] = labels"
   ]
  },
  {
   "cell_type": "code",
   "execution_count": null,
   "id": "1637a0d0",
   "metadata": {},
   "outputs": [],
   "source": [
    "\n",
    "\"\"\" Run functions for the model\"\"\"\n",
    "\n",
    "model1 = model_funcs.Mov1DCNN(num_classes = 20)\n",
    "input_dict = data_dict\n",
    "reg = \"l2\"\n",
    "params = (model1 , input_dict   , reg )\n",
    "my_testmodel = model_funcs.ModelHandler(*params)\n",
    "\"\"\"train model\"\"\"\n",
    "my_testmodel.train()\n",
    "\"\"\"test model\"\"\"\n",
    "my_testmodel.test()\n",
    "\"\"\"plot confusionmatrix\"\"\"\n",
    "# my_testmodel.plotConfusionMatrix()\n",
    "\"\"\"plot RDM for input and fully connected layers\"\"\"\n",
    "# visualization_train,labels_name_train,output_train= my_testmodel.layer_extractor(train=True)\n",
    "# my_testmodel.save_layerOutput(train = True)\n",
    "# visualization_test,labels_name_test,output_train= my_testmodel.layer_extractor(train=False)\n",
    "# my_testmodel.save_layerOutput(train = False)\n",
    "# out_fc1= np.load(\"../data/03_processed/fc1-out.npy\")\n",
    "# out_fc2= np.load(\"../data/03_processed/fc2-out.npy\")\n",
    "# out_fc3= np.load(\"../data/03_processed/fc3-out.npy\")\n",
    "# my_testmodel.plotRDM(plot_input=True)\n",
    "# my_testmodel.plotRDM(plot_input=False)\n"
   ]
  },
  {
   "cell_type": "code",
   "execution_count": null,
   "id": "59a5447d",
   "metadata": {},
   "outputs": [],
   "source": [
    "l = (2,[5,6])\n",
    "l[1].size()"
   ]
  },
  {
   "cell_type": "code",
   "execution_count": null,
   "id": "a5c234bb",
   "metadata": {},
   "outputs": [],
   "source": [
    "def plot_difconfmat(in1,in2):\n",
    "    model1 = model_funcs.Mov1DCNN()\n",
    "    path_file = \"../data/03_processed/\"+in1\n",
    "    data_dict = data_loader.load_data_dict(path_file)   \n",
    "    input_dict = data_dict\n",
    "    reg = \"l2\"\n",
    "    params = (model1 , input_dict   , reg )\n",
    "    m1 = model_funcs.ModelHandler(*params)\n",
    "    m1.train()\n",
    "    m1.test()\n",
    "    conf1,tick_names = m1.plotConfusionMatrix()\n",
    "\n",
    "    model2 = model_funcs.Mov1DCNN()\n",
    "    path_file = \"../data/03_processed/\"+in2\n",
    "    data_dict = data_loader.load_data_dict(path_file)   \n",
    "    input_dict = data_dict\n",
    "    reg = \"l2\"\n",
    "    params = (model2 , input_dict   , reg )\n",
    "    m2 = model_funcs.ModelHandler(*params)\n",
    "    m2.train()\n",
    "    m2.test()\n",
    "    conf2,tick_names = m2.plotConfusionMatrix()\n",
    "\n",
    "    plt.figure(figsize=(8,10))\n",
    "    plt.imshow(conf1-conf2)\n",
    "    plt.colorbar(orientation=\"horizontal\")\n",
    "    plt.xticks(range(len(tick_names)),tick_names, rotation=90)\n",
    "    plt.yticks(range(len(tick_names)),tick_names)\n",
    "    plt.xlabel('predicted move')\n",
    "    plt.ylabel('real move')\n",
    "    plt.show()\n",
    "    return(conf1,conf2)"
   ]
  },
  {
   "cell_type": "code",
   "execution_count": null,
   "id": "32da6de0",
   "metadata": {},
   "outputs": [],
   "source": []
  },
  {
   "cell_type": "code",
   "execution_count": null,
   "id": "b62fa0bb",
   "metadata": {},
   "outputs": [],
   "source": [
    "conf1,conf2 = plot_difconfmat(\"interpolation\",\"padding\")\n",
    "plt.figure(figsize=(8,10))\n",
    "plt.imshow(conf1-conf2)\n",
    "plt.colorbar()\n",
    "# plt.xticks(range(len(tick_names)),tick_names, rotation=90)\n",
    "# plt.yticks(range(len(tick_names)),tick_names)\n",
    "plt.xlabel('predicted move')\n",
    "plt.ylabel('real move')\n",
    "plt.title(\"dif conf mat\")\n",
    "plt.show()"
   ]
  },
  {
   "cell_type": "code",
   "execution_count": null,
   "id": "9f74c2f1",
   "metadata": {},
   "outputs": [],
   "source": []
  },
  {
   "cell_type": "code",
   "execution_count": null,
   "id": "4f56bf17",
   "metadata": {},
   "outputs": [],
   "source": [
    "\"\"\"test new library of DLC2kinematics\"\"\"\n",
    "\n",
    "# load dlc2kinematics to add velocity and angular \n",
    "df, bodyparts, scorer = dlc2kinematics.load_data(\"/home/arefe/My Project/data/01_raw/h5files/F_PG1_Subject_21_LDLC_resnet101_myDLC_21_25Nov17shuffle1_103000.h5\")\n",
    "# it gives dataframe of velocity for each 42 channel\n",
    "df_vel = dlc2kinematics.compute_velocity(df,bodyparts=['all'])\n",
    "# joint_dict= {}\n",
    "# joint_dict['R-Elbow']  = ['R_shoulder', 'Right_elbow', 'Right_wrist']\n",
    "# joint_angles = dlc2kinematics.compute_joint_angles(df,joint_dict)\n",
    "# joint_vel = dlc2kinematics.compute_joint_velocity(joint_angles)\n",
    "# pca = dlc2kinematics.compute_pca(joint_vel, plot=True)\n",
    "dlc2kinematics.plot_3d_pca_reconstruction(df_vel, n_components=10, framenumber=500)\n",
    "\n",
    "\n",
    "\n",
    "\n",
    "\n",
    "\"\"\"plot length distribution of each movement \"\"\"\n",
    "_,_,subjects,all_motions_dist= data_loader.timelength_loader(\"../data/01_raw/F_Subjects\")\n",
    "\n",
    "motions_dist_mean = {}\n",
    "motions_dist_std = {}\n",
    "for k in all_motions_dist.keys():\n",
    "    motions_dist_mean[k] = np.mean(all_motions_dist[k])\n",
    "    motions_dist_std[k] = np.std(all_motions_dist[k])\n",
    "positions = all_motions_dist.keys()\n",
    "plt.figure(figsize=(8,6))\n",
    "plt.bar(positions, motions_dist_mean.values(), color=\"Cyan\", yerr=motions_dist_std.values())\n",
    "plt.xticks(rotation=30)\n",
    "plt.show()\n",
    "\n",
    "# dlc2kinematics.compute_umap(df, key=['LeftForelimb', 'RightForelimb'], chunk_length=30,fit_transform=True, n_neighbors=30, n_components=3,metric=\"euclidean\")"
   ]
  }
 ],
 "metadata": {
  "jupytext": {
   "formats": "ipynb,jupytext//py"
  },
  "kernelspec": {
   "display_name": "Python 3.9.7 ('base': conda)",
   "language": "python",
   "name": "python3"
  }
 },
 "nbformat": 4,
 "nbformat_minor": 5
}
